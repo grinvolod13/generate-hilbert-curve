{
 "cells": [
  {
   "cell_type": "markdown",
   "id": "2f25e4b4-6eaf-4fd5-b029-ff973913f346",
   "metadata": {},
   "source": [
    "# Drawing Pseudo-Hilbert Curves"
   ]
  },
  {
   "cell_type": "markdown",
   "id": "f1515822-724e-4673-951a-0f53b8c6d2f2",
   "metadata": {},
   "source": [
    "### Setting starting parameters (and imports)"
   ]
  },
  {
   "cell_type": "code",
   "execution_count": 1,
   "id": "c6c7592c-6274-4390-9e5a-19cf88e0670c",
   "metadata": {},
   "outputs": [],
   "source": [
    "import numpy as np\n",
    "\n",
    "square_h = 8  #size of one square(px)\n",
    "line_w = 1    #width of the line (px)"
   ]
  },
  {
   "cell_type": "markdown",
   "id": "05a2d039-f5fd-492a-af93-340aa8d0bb2a",
   "metadata": {},
   "source": [
    "### Drawing starting image (First-order Pseudo-Hilbert Curve)"
   ]
  },
  {
   "cell_type": "code",
   "execution_count": 2,
   "id": "831eb4f4-ba6f-4396-a630-101eac05b953",
   "metadata": {},
   "outputs": [],
   "source": [
    "def draw_start() -> np.ndarray:\n",
    "    PHC = np.zeros((square_h, square_h))\n",
    "    PHC[0:line_w, :] = 1\n",
    "    PHC[:, 0:line_w] = 1\n",
    "    PHC[:, square_h-line_w] = 1\n",
    "    return PHC"
   ]
  },
  {
   "cell_type": "markdown",
   "id": "45ea9f0c-172c-41b7-934c-43f09725fa6a",
   "metadata": {},
   "source": [
    "### Drawing next-order curves"
   ]
  },
  {
   "cell_type": "code",
   "execution_count": 3,
   "id": "b08cef58-caa2-4c92-a94e-7aaf89a16cc8",
   "metadata": {},
   "outputs": [],
   "source": [
    "def draw_next(previous_PHC: np.ndarray):\n",
    "    prev_h = previous_PHC.shape[0]\n",
    "    new_H = prev_h*2 + square_h\n",
    "    new_PHC = np.zeros((new_H, new_H))\n",
    "    \n",
    "    new_PHC[0:prev_h, 0:prev_h] = previous_PHC\n",
    "    new_PHC[0:prev_h, prev_h+square_h:] = previous_PHC\n",
    "    new_PHC[prev_h-line_w:prev_h, prev_h:prev_h+ square_h ] = 1\n",
    "    \n",
    "    new_PHC[prev_h+square_h:, 0:prev_h] = previous_PHC.T[:, ::-1]\n",
    "    new_PHC[prev_h+square_h:, prev_h+square_h:] = previous_PHC.T\n",
    "    new_PHC[prev_h:prev_h+square_h, 0:line_w ] = 1\n",
    "    new_PHC[prev_h:prev_h+square_h, -line_w: ] = 1\n",
    "\n",
    "    return new_PHC"
   ]
  },
  {
   "cell_type": "markdown",
   "id": "28e2fdbe-4c10-405e-bdc6-2a108d54c374",
   "metadata": {},
   "source": [
    "### Drawing Pseudo-Hilbert Curves of exact order"
   ]
  },
  {
   "cell_type": "code",
   "execution_count": 4,
   "id": "ae922875-024f-455a-ab96-427cb5be7319",
   "metadata": {},
   "outputs": [],
   "source": [
    "def draw_pseudohilbert_curve(hilbert_order: int):\n",
    "    PHC = draw_start()\n",
    "    for i in range(hilbert_order-1):\n",
    "        PHC = draw_next(PHC)\n",
    "    return PHC"
   ]
  },
  {
   "cell_type": "markdown",
   "id": "18e05c49-4fbb-4f3c-91d2-ee2a0888234c",
   "metadata": {},
   "source": [
    "### Results"
   ]
  },
  {
   "cell_type": "code",
   "execution_count": 5,
   "id": "60d91f60-3f07-41fe-9883-b926bd892c2a",
   "metadata": {},
   "outputs": [
    {
     "data": {
      "text/plain": [
       "<matplotlib.image.AxesImage at 0x2121d4834d0>"
      ]
     },
     "execution_count": 5,
     "metadata": {},
     "output_type": "execute_result"
    },
    {
     "data": {
      "image/png": "[encoded data removed]",
      "text/plain": [
       "<Figure size 1000x1000 with 3 Axes>"
      ]
     },
     "metadata": {},
     "output_type": "display_data"
    }
   ],
   "source": [
    "import matplotlib.pyplot as plt\n",
    "fig, (ax1, ax2, ax3) = plt.subplots(1, 3,  figsize=(10, 10))\n",
    "curve_1 = draw_start()\n",
    "curve_2 = draw_next(curve_1)\n",
    "curve_3 = draw_pseudohilbert_curve(3)\n",
    "ax1.imshow(curve_3, cmap=\"gray\")\n",
    "ax2.imshow(curve_2, cmap=\"gray\")\n",
    "ax3.imshow(curve_1, cmap=\"gray\")"
   ]
  },
  {
   "cell_type": "markdown",
   "id": "98becb86-7c24-41b2-8804-06417cf74044",
   "metadata": {},
   "source": [
    "#### Saving images"
   ]
  },
  {
   "cell_type": "code",
   "execution_count": 6,
   "id": "12f10f8e-5901-4cd8-968a-00798d6dc314",
   "metadata": {},
   "outputs": [],
   "source": [
    "hilbert_order = 4\n",
    "PHC = draw_pseudohilbert_curve(hilbert_order)\n",
    "plt.imsave(f\"./saved_images/PHC-{hilbert_order}.png\", PHC, cmap=\"gray\")"
   ]
  }
 ],
 "metadata": {
  "kernelspec": {
   "display_name": "Python 3 (ipykernel)",
   "language": "python",
   "name": "python3"
  },
  "language_info": {
   "codemirror_mode": {
    "name": "ipython",
    "version": 3
   },
   "file_extension": ".py",
   "mimetype": "text/x-python",
   "name": "python",
   "nbconvert_exporter": "python",
   "pygments_lexer": "ipython3",
   "version": "3.12.1"
  }
 },
 "nbformat": 4,
 "nbformat_minor": 5
}
